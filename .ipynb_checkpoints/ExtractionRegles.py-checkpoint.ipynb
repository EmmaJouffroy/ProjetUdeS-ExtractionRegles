{
 "cells": [
  {
   "cell_type": "code",
   "execution_count": 1,
   "metadata": {},
   "outputs": [],
   "source": [
    "import pandas as pd\n",
    "import numpy as np\n",
    "import matplotlib.pyplot as plt\n",
    "from apyori import apriori"
   ]
  },
  {
   "cell_type": "code",
   "execution_count": 2,
   "metadata": {},
   "outputs": [],
   "source": [
    "dataset = pd.read_csv('Sujet/bank-data.csv')"
   ]
  },
  {
   "cell_type": "markdown",
   "metadata": {},
   "source": [
    "## Preprocessing on age"
   ]
  },
  {
   "cell_type": "code",
   "execution_count": 3,
   "metadata": {},
   "outputs": [
    {
     "name": "stderr",
     "output_type": "stream",
     "text": [
      "/Users/jouffroy/.local/share/virtualenvs/ProjetUdeS-ExtractionRegles-o6pjDpBg/lib/python3.7/site-packages/pandas/core/indexing.py:494: SettingWithCopyWarning: \n",
      "A value is trying to be set on a copy of a slice from a DataFrame.\n",
      "Try using .loc[row_indexer,col_indexer] = value instead\n",
      "\n",
      "See the caveats in the documentation: http://pandas.pydata.org/pandas-docs/stable/user_guide/indexing.html#returning-a-view-versus-a-copy\n",
      "  self.obj[item] = s\n"
     ]
    }
   ],
   "source": [
    "age1020 = dataset.loc[(dataset['age'] > 10) & (dataset['age'] <= 20),:]\n",
    "age1020.loc[:,'age'] = \"10-20\"\n",
    "age2030 = dataset.loc[(dataset['age'] > 20) & (dataset['age'] <= 30),:]\n",
    "age2030.loc[:,'age'] = \"20-30\"\n",
    "age3040 = dataset.loc[(dataset['age'] > 30) & (dataset['age'] <= 40),:]\n",
    "age3040.loc[:,'age'] = \"30-40\"\n",
    "age4050 = dataset.loc[(dataset['age'] > 40) & (dataset['age'] <= 50),:]\n",
    "age4050.loc[:,'age'] = \"40-50\"\n",
    "age5060 = dataset.loc[(dataset['age'] > 50) & (dataset['age'] <= 60),:]\n",
    "age5060.loc[:,'age'] = \"50-60\"\n",
    "age6070 = dataset.loc[(dataset['age'] > 60) & (dataset['age'] <= 70),:]\n",
    "age6070.loc[:,'age'] = \"60-70\"\n",
    "\n",
    "dataset = pd.concat ([age1020, age2030, age3040, age4050, age5060, age6070])"
   ]
  },
  {
   "cell_type": "markdown",
   "metadata": {},
   "source": [
    "## Preprocessing on income"
   ]
  },
  {
   "cell_type": "code",
   "execution_count": 4,
   "metadata": {},
   "outputs": [
    {
     "name": "stdout",
     "output_type": "stream",
     "text": [
      "63130.1\n",
      "5014.21\n"
     ]
    }
   ],
   "source": [
    "print(dataset['income'].max())\n",
    "print(dataset['income'].min())"
   ]
  },
  {
   "cell_type": "code",
   "execution_count": 5,
   "metadata": {},
   "outputs": [],
   "source": [
    "income010k = dataset.loc[(dataset['income'] > 0) & (dataset['income'] <= 10000),:]\n",
    "income010k.loc[:,'income'] = \"0-10k\"\n",
    "income10k20k = dataset.loc[(dataset['income'] > 10000) & (dataset['income'] <= 20000),:]\n",
    "income10k20k.loc[:,'income'] = \"10k-20k\"\n",
    "income20k30k = dataset.loc[(dataset['income'] > 20000) & (dataset['income'] <= 30000),:]\n",
    "income20k30k.loc[:,'income'] = \"20k-30k\"\n",
    "income30k40k = dataset.loc[(dataset['income'] > 30000) & (dataset['income'] <= 40000),:]\n",
    "income30k40k.loc[:,'income'] = \"30k-40k\"\n",
    "income40k50k = dataset.loc[(dataset['income'] > 40000) & (dataset['income'] <= 50000),:]\n",
    "income40k50k.loc[:,'income'] = \"40k-50k\"\n",
    "income50k60k = dataset.loc[(dataset['income'] > 50000) & (dataset['income'] <= 60000),:]\n",
    "income50k60k.loc[:,'income'] = \"50k-60k\"\n",
    "income60k70k = dataset.loc[(dataset['income'] > 60000) & (dataset['income'] <= 70000),:]\n",
    "income60k70k.loc[:,'income'] = \"60k-70k\"\n",
    "\n",
    "dataset = pd.concat ([income010k, income10k20k, income20k30k, income30k40k, income40k50k, income50k60k, income60k70k])"
   ]
  },
  {
   "cell_type": "markdown",
   "metadata": {},
   "source": [
    "## Preprocessing on children"
   ]
  },
  {
   "cell_type": "code",
   "execution_count": 6,
   "metadata": {},
   "outputs": [
    {
     "name": "stdout",
     "output_type": "stream",
     "text": [
      "0\n",
      "3\n"
     ]
    }
   ],
   "source": [
    "print(dataset['children'].min())\n",
    "print(dataset['children'].max())"
   ]
  },
  {
   "cell_type": "markdown",
   "metadata": {},
   "source": [
    "## Separate epargnant / non epargnant"
   ]
  },
  {
   "cell_type": "code",
   "execution_count": 7,
   "metadata": {},
   "outputs": [],
   "source": [
    "epargnant_pep = dataset[((dataset['pep'] == \"YES\") & (dataset['mortgage'] == \"NO\")) ]\n",
    "epargnant_mortgage = dataset[((dataset['pep'] == \"NO\") & (dataset['mortgage'] == \"YES\"))]\n",
    "epargnant_both =dataset[((dataset['pep'] == \"YES\") & (dataset['mortgage'] == \"YES\"))]\n",
    "non_epargnant = dataset[((dataset['pep'] == \"NO\") & (dataset['mortgage'] == \"NO\")) ]\n",
    "epargnant = pd.concat([epargnant_pep, epargnant_mortgage, epargnant_both])"
   ]
  },
  {
   "cell_type": "markdown",
   "metadata": {},
   "source": [
    "## Apriori algorithm"
   ]
  },
  {
   "cell_type": "code",
   "execution_count": null,
   "metadata": {},
   "outputs": [],
   "source": []
  }
 ],
 "metadata": {
  "kernelspec": {
   "display_name": "Python 3",
   "language": "python",
   "name": "python3"
  },
  "language_info": {
   "codemirror_mode": {
    "name": "ipython",
    "version": 3
   },
   "file_extension": ".py",
   "mimetype": "text/x-python",
   "name": "python",
   "nbconvert_exporter": "python",
   "pygments_lexer": "ipython3",
   "version": "3.7.2"
  }
 },
 "nbformat": 4,
 "nbformat_minor": 2
}
